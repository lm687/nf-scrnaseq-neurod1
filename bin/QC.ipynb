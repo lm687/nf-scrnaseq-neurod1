{
 "cells": [
  {
   "cell_type": "code",
   "execution_count": null,
   "id": "27ad0896-1167-4918-a499-c502d7342360",
   "metadata": {},
   "outputs": [],
   "source": [
    "import os\n",
    "import numpy as np\n",
    "import pandas as pd\n",
    "import anndata as ad\n",
    "import scanpy as sc\n",
    "import seaborn as sns\n",
    "import matplotlib.pyplot as plt\n",
    "\n",
    "os.environ[ 'NUMBA_CACHE_DIR' ] = '/tmp/'\n",
    "sc.settings.verbosity = 3 # verbosity: errors (0), warnings (1), info (2), hints (3)\n",
    "sc.logging.print_header()\n",
    "sc.settings.set_figure_params(dpi=80, facecolor='white')\n",
    "sns.set_style('ticks')\n",
    "\n",
    "def count_barplot(adata, axes, skip_x = False, sample_col = 'sample_name', title = ''):\n",
    "    s = adata.obs[\"sample_name\"].value_counts()\n",
    "    s = s.to_frame().reset_index()\n",
    "    sns.barplot(s, x='sample_name', y='count', color='orange', ax = axes)\n",
    "    axes.set_title(title)\n",
    "    if skip_x:\n",
    "        axes.set_xticks([])\n",
    "        axes.set_xlabel('')\n",
    "    else:\n",
    "        axes.tick_params(axis='x', labelrotation=45)\n",
    "    for index, row in s.iterrows():\n",
    "        axes.text(row['sample_name'], row['count'], row['count'], color='black', ha=\"center\")\n",
    "\n",
    "def library_size_plot(adata, axes, skip_x = False, title = ''):\n",
    "    sc.pl.violin(adata, ['log1p_total_counts'], groupby = 'sample_name',\n",
    "             jitter=0.4, multi_panel=True, show=False, ax = axes)\n",
    "    if skip_x:\n",
    "        axes.set_xticks([])\n",
    "        axes.set_xlabel('')\n",
    "    else:\n",
    "        axes.tick_params(axis='x', labelrotation=45)\n",
    "    axes.set_title(title)\n",
    "\n",
    "def gene_counts(adata, axes, skip_x = False, title = ''):\n",
    "    sc.pl.violin(adata, ['log1p_n_genes_by_counts'], groupby = 'sample_name',\n",
    "             jitter=0.4, multi_panel=True, show=False, ax = axes)\n",
    "    if skip_x:\n",
    "        axes.set_xticks([])\n",
    "        axes.set_xlabel('')\n",
    "    else:\n",
    "        axes.tick_params(axis='x', labelrotation=45)\n",
    "    axes.set_title(title)\n",
    "\n",
    "def mitochondiral_content(adata, axes, skip_x = False, title = ''):\n",
    "    sc.pl.violin(adata, ['mito_frac'], groupby = 'sample_name',\n",
    "             jitter=0.4, multi_panel=True,show=False, ax = axes)\n",
    "    if skip_x:\n",
    "        axes.set_xticks([])\n",
    "        axes.set_xlabel('')\n",
    "    else:\n",
    "        axes.tick_params(axis='x', labelrotation=45)  \n",
    "    axes.set_title(title)\n",
    "    \n",
    "experiment_name = ''"
   ]
  },
  {
   "cell_type": "code",
   "execution_count": null,
   "id": "9d7345e6-2c8d-4474-ac10-420c2338b8a1",
   "metadata": {},
   "outputs": [],
   "source": [
    "path = './'\n",
    "filelist_all = os.listdir(path)\n",
    "filelist = [x for x in filelist_all if x.endswith(\".h5ad\")]\n",
    "\n",
    "batch_corrected = ['scvi' in x for x in filelist]\n",
    "print('adatas: ' + '\\n'.join([os.path.join(path, filename) for filename in filelist]))\n",
    "adatas = [sc.read_h5ad(os.path.join(path, filename)) for filename in filelist]\n",
    "adata_names = ['SCVI' if x else 'Before SCVI' for x in batch_corrected]"
   ]
  },
  {
   "cell_type": "markdown",
   "id": "09df9d01-e144-4ed7-8e42-af04707c46fd",
   "metadata": {},
   "source": [
    "# Cell counts"
   ]
  },
  {
   "cell_type": "code",
   "execution_count": null,
   "id": "ec2f0457-9959-4ea0-be52-b084701ffa48",
   "metadata": {
    "tags": []
   },
   "outputs": [],
   "source": [
    "adata_scvi = adatas[np.where(batch_corrected)[0][0]]\n",
    "filters = adata_scvi.obs['doublet'] | adata_scvi.obs['outlier']\n",
    "adata_scvi_filtered = adata_scvi[~filters]"
   ]
  },
  {
   "cell_type": "code",
   "execution_count": null,
   "id": "344b4dda-aadb-4453-9a83-3b399ff3ade7",
   "metadata": {},
   "outputs": [],
   "source": [
    "print(f'The data contains {adata_scvi.shape[0]} cells before doublet and outlier removal.')\n",
    "print(f'{sum(filters)} cells were detected as doublets or outliers.')\n",
    "print(f'{adata_scvi_filtered.shape[0]} cells remained after filtering.')"
   ]
  },
  {
   "cell_type": "markdown",
   "id": "b1db2ae6-dfa6-4390-8b09-30e34eb07421",
   "metadata": {},
   "source": [
    "# Violin plots of QC metrics before and after filtering"
   ]
  },
  {
   "cell_type": "markdown",
   "id": "71fdb764-4089-4093-af3d-f69a0dc42d84",
   "metadata": {},
   "source": [
    "## Library size distribution"
   ]
  },
  {
   "cell_type": "code",
   "execution_count": null,
   "id": "7830af4f-91c3-4bbb-a347-48fa892c26c2",
   "metadata": {},
   "outputs": [],
   "source": [
    "fig, axes = plt.subplots(1, 2, figsize = (11, 6))\n",
    "library_size_plot(adata_scvi, axes = axes[0], title = 'Before filtering')\n",
    "library_size_plot(adata_scvi_filtered, axes = axes[1], title = 'Filtered')"
   ]
  },
  {
   "cell_type": "markdown",
   "id": "7cfc676f-c8e7-4e3b-9a21-6e5db66587d0",
   "metadata": {},
   "source": [
    "## n_genes in each cell"
   ]
  },
  {
   "cell_type": "code",
   "execution_count": null,
   "id": "4faaf6cc-96de-47c6-a17c-8cc906649b98",
   "metadata": {},
   "outputs": [],
   "source": [
    "fig, axes = plt.subplots(1, 2, figsize = (11, 6))\n",
    "gene_counts(adata_scvi, axes = axes[0], title = 'Before filtering')\n",
    "gene_counts(adata_scvi_filtered, axes = axes[1], title = 'Filtered')"
   ]
  },
  {
   "cell_type": "markdown",
   "id": "c5cb881a-5f93-4837-a664-36ca189dbf3a",
   "metadata": {},
   "source": [
    "## Mitochondrial (MT)-content"
   ]
  },
  {
   "cell_type": "code",
   "execution_count": null,
   "id": "5866a53d-a01d-4fcc-8f6c-0f7f6df40515",
   "metadata": {},
   "outputs": [],
   "source": [
    "fig, axes = plt.subplots(1, 2, figsize = (11, 6))\n",
    "mitochondiral_content(adata_scvi, axes = axes[0], title = 'Before filtering')\n",
    "mitochondiral_content(adata_scvi_filtered, axes = axes[1], title = 'Filtered')"
   ]
  },
  {
   "cell_type": "markdown",
   "id": "b4c3e51a-e478-4221-85c6-57f024cd2c58",
   "metadata": {},
   "source": [
    "# UMAP before and after batch correction"
   ]
  },
  {
   "cell_type": "markdown",
   "id": "f56f1928",
   "metadata": {},
   "source": [
    "### Custom parameters"
   ]
  },
  {
   "cell_type": "code",
   "execution_count": null,
   "id": "589e39dd",
   "metadata": {},
   "outputs": [],
   "source": [
    "if plots is not None: \n",
    "    plots = pd.read_csv(plots, header=None)\n",
    "    plots = plots.iloc[0,:].values.tolist()\n",
    "    for plot in plots: \n",
    "        print(plot)\n",
    "        fig, axes = plt.subplots(1, 2, figsize = (10, 5))\n",
    "        for i, adata in enumerate(adatas):\n",
    "            ax = axes[i%2]\n",
    "            sc.pl.umap(adata, color = plot, title = adata_names[i], show = False, ax = ax, frameon = False)\n",
    "        plt.tight_layout()\n",
    "        plt.show()"
   ]
  },
  {
   "cell_type": "markdown",
   "id": "c1ed930b-6797-490f-b571-dd022b2e2f28",
   "metadata": {},
   "source": [
    "### Sample names"
   ]
  },
  {
   "cell_type": "code",
   "execution_count": null,
   "id": "aaaa2e22",
   "metadata": {},
   "outputs": [],
   "source": [
    "fig, axes = plt.subplots(1, 2, figsize = (10, 5))\n",
    "for i, adata in enumerate(adatas):\n",
    "    ax = axes[i%2]\n",
    "    sc.pl.umap(adata, color = ['sample_name'], title = adata_names[i], frameon = False, show = False, ax = ax)\n",
    "plt.tight_layout()\n",
    "plt.show()"
   ]
  },
  {
   "cell_type": "markdown",
   "id": "2aefbc6d-4da1-491e-907f-6165291f126c",
   "metadata": {},
   "source": [
    "### Leiden clusters"
   ]
  },
  {
   "cell_type": "code",
   "execution_count": null,
   "id": "544101af-2ae3-4e2b-bbf6-d5776c2c04ce",
   "metadata": {},
   "outputs": [],
   "source": [
    "fig, axes = plt.subplots(1, 2, figsize = (10, 5))\n",
    "for i, adata in enumerate(adatas):\n",
    "    ax = axes[i%2]\n",
    "    sc.pl.umap(adata, color = ['leiden'], title = adata_names[i], frameon = False, show = False, ax = ax)\n",
    "plt.tight_layout()\n",
    "plt.show()"
   ]
  },
  {
   "cell_type": "markdown",
   "id": "13058361-80bc-4b2e-9a0b-b5b9fba24476",
   "metadata": {},
   "source": [
    "### Outliers (in orange)"
   ]
  },
  {
   "cell_type": "code",
   "execution_count": null,
   "id": "1d60723f",
   "metadata": {},
   "outputs": [],
   "source": [
    "fig, axes = plt.subplots(1, 2, figsize = (10, 5))\n",
    "for i, adata in enumerate(adatas):\n",
    "    ax = axes[i%2]\n",
    "    sc.pl.umap(adata, color = ['outlier'], title = adata_names[i], frameon = False, show = False, ax = ax)\n",
    "plt.tight_layout()\n",
    "plt.show()"
   ]
  },
  {
   "cell_type": "markdown",
   "id": "ba3e22fc-f74a-477e-b504-0482fbf07cb4",
   "metadata": {},
   "source": [
    "### Doublets (in orange)"
   ]
  },
  {
   "cell_type": "code",
   "execution_count": null,
   "id": "e90c5c20",
   "metadata": {},
   "outputs": [],
   "source": [
    "fig, axes = plt.subplots(1, 2, figsize = (10, 5))\n",
    "for i, adata in enumerate(adatas):\n",
    "    ax = axes[i%2]\n",
    "    sc.pl.umap(adata, color = ['doublet'], title = adata_names[i], frameon = False, show = False, ax = ax)\n",
    "plt.tight_layout()\n",
    "plt.show()"
   ]
  },
  {
   "cell_type": "markdown",
   "id": "4e67d820-d831-4d3d-abff-7e9dee40491b",
   "metadata": {},
   "source": [
    "# Marker gene plot before and after batch correction"
   ]
  },
  {
   "cell_type": "code",
   "execution_count": null,
   "id": "4e0b80aa-af62-4eb1-a912-236e8405dec2",
   "metadata": {},
   "outputs": [],
   "source": [
    "for i, adata in enumerate(adatas):\n",
    "    print(adata_names[i])\n",
    "    sc.pl.rank_genes_groups(adatas[i], n_genes=20, groupby=\"leiden\", title = adata_names[i])"
   ]
  },
  {
   "cell_type": "markdown",
   "id": "19b974c0-deef-4fa0-a895-0b99831aea07",
   "metadata": {},
   "source": [
    "# Celltypist annotations"
   ]
  },
  {
   "cell_type": "code",
   "execution_count": null,
   "id": "8f134861-883b-4286-a399-e9945f9a5beb",
   "metadata": {},
   "outputs": [],
   "source": [
    "adata_celltypist = [x for ct,x in enumerate(adatas) if 'celltypist' in os.path.basename(filelist[ct])][0]\n",
    "top_labels = adata_celltypist.obs['predicted_labels'].value_counts().nlargest(10).index\n",
    "top_labels_adata = adata_celltypist[adata_celltypist.obs['predicted_labels'].isin(top_labels)].copy()\n",
    "top_labels_adata.obs['predicted_labels'] = top_labels_adata.obs['predicted_labels'].astype(str)\n",
    "sc.pl.umap(\n",
    "    top_labels_adata,\n",
    "    color=['leiden', \"predicted_labels\"],\n",
    "    wspace=0.4, \n",
    ")"
   ]
  }
 ],
 "metadata": {
  "kernelspec": {
   "display_name": "Python 3 (ipykernel)",
   "language": "python",
   "name": "python3"
  },
  "language_info": {
   "codemirror_mode": {
    "name": "ipython",
    "version": 3
   },
   "file_extension": ".py",
   "mimetype": "text/x-python",
   "name": "python",
   "nbconvert_exporter": "python",
   "pygments_lexer": "ipython3",
   "version": "3.12.2"
  }
 },
 "nbformat": 4,
 "nbformat_minor": 5
}
